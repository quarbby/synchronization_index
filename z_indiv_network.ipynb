{
 "cells": [
  {
   "cell_type": "code",
   "execution_count": 18,
   "id": "014e7b08",
   "metadata": {},
   "outputs": [],
   "source": [
    "import pandas as pd\n",
    "import os\n",
    "import matplotlib.pyplot as pyplt\n",
    "import seaborn as sns\n",
    "sns.set()\n",
    "import math\n",
    "\n",
    "def sigmoid(x):\n",
    "    return 1 / (1 + math.exp(-x))"
   ]
  },
  {
   "cell_type": "code",
   "execution_count": 19,
   "id": "812efd9e",
   "metadata": {},
   "outputs": [],
   "source": [
    "coord_dir = '../capitol riots/index_20221102'\n",
    "\n",
    "df_hashtags = pd.read_csv(os.path.join(coord_dir, 'coord_user_hashtag_final_20221102.csv'))\n",
    "df_mentions = pd.read_csv(os.path.join(coord_dir, 'coord_user_simple_multiply_mentions_20221102.csv'))\n",
    "df_urls = pd.read_csv(os.path.join(coord_dir, 'coord_user_urls_final_20221102.csv'))"
   ]
  },
  {
   "cell_type": "code",
   "execution_count": 20,
   "id": "d4c9bfd3",
   "metadata": {},
   "outputs": [
    {
     "data": {
      "text/plain": [
       "(774.7646085490816, 1.0249882877439838, 282.2797436431092)"
      ]
     },
     "execution_count": 20,
     "metadata": {},
     "output_type": "execute_result"
    }
   ],
   "source": [
    "df_hashtags['coord_index'].mean(), df_mentions['coord_index'].mean(), df_urls['coord_index'].mean()"
   ]
  },
  {
   "cell_type": "code",
   "execution_count": null,
   "id": "6f5c1c29",
   "metadata": {},
   "outputs": [],
   "source": []
  }
 ],
 "metadata": {
  "kernelspec": {
   "display_name": "Python 3 (ipykernel)",
   "language": "python",
   "name": "python3"
  },
  "language_info": {
   "codemirror_mode": {
    "name": "ipython",
    "version": 3
   },
   "file_extension": ".py",
   "mimetype": "text/x-python",
   "name": "python",
   "nbconvert_exporter": "python",
   "pygments_lexer": "ipython3",
   "version": "3.9.7"
  }
 },
 "nbformat": 4,
 "nbformat_minor": 5
}
