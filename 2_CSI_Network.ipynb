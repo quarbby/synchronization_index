{
 "cells": [
  {
   "cell_type": "code",
   "execution_count": 36,
   "id": "be195efe",
   "metadata": {},
   "outputs": [],
   "source": [
    "import pandas as pd\n",
    "import os\n",
    "import matplotlib.pyplot as pyplt\n",
    "import seaborn as sns\n",
    "sns.set()\n",
    "import math\n",
    "\n",
    "def sigmoid(x):\n",
    "    return 1 / (1 + math.exp(-x))"
   ]
  },
  {
   "cell_type": "code",
   "execution_count": 42,
   "id": "6d2f0860",
   "metadata": {},
   "outputs": [
    {
     "name": "stderr",
     "output_type": "stream",
     "text": [
      "C:\\ProgramData\\Anaconda3\\lib\\site-packages\\IPython\\core\\interactiveshell.py:3444: DtypeWarning: Columns (0) have mixed types.Specify dtype option on import or set low_memory=False.\n",
      "  exec(code_obj, self.user_global_ns, self.user_ns)\n"
     ]
    }
   ],
   "source": [
    "coord_dir = '../frenchdata/index'\n",
    "df_users = pd.read_csv(os.path.join(coord_dir, 'coord_user_weighted.csv'))"
   ]
  },
  {
   "cell_type": "code",
   "execution_count": 38,
   "id": "ad260519",
   "metadata": {},
   "outputs": [
    {
     "data": {
      "text/html": [
       "<div>\n",
       "<style scoped>\n",
       "    .dataframe tbody tr th:only-of-type {\n",
       "        vertical-align: middle;\n",
       "    }\n",
       "\n",
       "    .dataframe tbody tr th {\n",
       "        vertical-align: top;\n",
       "    }\n",
       "\n",
       "    .dataframe thead th {\n",
       "        text-align: right;\n",
       "    }\n",
       "</style>\n",
       "<table border=\"1\" class=\"dataframe\">\n",
       "  <thead>\n",
       "    <tr style=\"text-align: right;\">\n",
       "      <th></th>\n",
       "      <th>user</th>\n",
       "      <th>coord_index</th>\n",
       "      <th>coord_sigmoid</th>\n",
       "      <th>counter</th>\n",
       "    </tr>\n",
       "  </thead>\n",
       "  <tbody>\n",
       "    <tr>\n",
       "      <th>0</th>\n",
       "      <td>fabbing</td>\n",
       "      <td>2.1</td>\n",
       "      <td>0.890903</td>\n",
       "      <td>1</td>\n",
       "    </tr>\n",
       "    <tr>\n",
       "      <th>1</th>\n",
       "      <td>Geeke77e</td>\n",
       "      <td>3.3</td>\n",
       "      <td>0.964429</td>\n",
       "      <td>1</td>\n",
       "    </tr>\n",
       "    <tr>\n",
       "      <th>2</th>\n",
       "      <td>KwabenaPoku</td>\n",
       "      <td>1.0</td>\n",
       "      <td>0.731059</td>\n",
       "      <td>1</td>\n",
       "    </tr>\n",
       "    <tr>\n",
       "      <th>3</th>\n",
       "      <td>OctyMorare</td>\n",
       "      <td>2.1</td>\n",
       "      <td>0.890903</td>\n",
       "      <td>1</td>\n",
       "    </tr>\n",
       "    <tr>\n",
       "      <th>4</th>\n",
       "      <td>filmvibes</td>\n",
       "      <td>3.3</td>\n",
       "      <td>0.964429</td>\n",
       "      <td>1</td>\n",
       "    </tr>\n",
       "  </tbody>\n",
       "</table>\n",
       "</div>"
      ],
      "text/plain": [
       "          user  coord_index  coord_sigmoid  counter\n",
       "0      fabbing          2.1       0.890903        1\n",
       "1     Geeke77e          3.3       0.964429        1\n",
       "2  KwabenaPoku          1.0       0.731059        1\n",
       "3   OctyMorare          2.1       0.890903        1\n",
       "4    filmvibes          3.3       0.964429        1"
      ]
     },
     "execution_count": 38,
     "metadata": {},
     "output_type": "execute_result"
    }
   ],
   "source": [
    "df_users.head()"
   ]
  },
  {
   "cell_type": "code",
   "execution_count": 43,
   "id": "501d2355",
   "metadata": {},
   "outputs": [
    {
     "data": {
      "text/plain": [
       "560621"
      ]
     },
     "execution_count": 43,
     "metadata": {},
     "output_type": "execute_result"
    }
   ],
   "source": [
    "unique_users = df_users['user'].tolist()\n",
    "len(unique_users)"
   ]
  },
  {
   "cell_type": "code",
   "execution_count": 44,
   "id": "3f4585a3",
   "metadata": {},
   "outputs": [
    {
     "data": {
      "text/plain": [
       "count    105893.000000\n",
       "mean          4.164747\n",
       "std           4.627258\n",
       "min           0.000000\n",
       "25%           3.084112\n",
       "50%           3.084112\n",
       "75%           4.149533\n",
       "max         214.000000\n",
       "Name: coord_index, dtype: float64"
      ]
     },
     "execution_count": 44,
     "metadata": {},
     "output_type": "execute_result"
    }
   ],
   "source": [
    "df_users['coord_index'].describe()"
   ]
  },
  {
   "cell_type": "code",
   "execution_count": 45,
   "id": "3861cf1b",
   "metadata": {},
   "outputs": [
    {
     "data": {
      "text/plain": [
       "3.08411214953271"
      ]
     },
     "execution_count": 45,
     "metadata": {},
     "output_type": "execute_result"
    }
   ],
   "source": [
    "df_users['coord_index'].median()"
   ]
  },
  {
   "cell_type": "code",
   "execution_count": 19,
   "id": "b48ae1de",
   "metadata": {},
   "outputs": [
    {
     "data": {
      "text/plain": [
       "count    8307.000000\n",
       "mean        0.977870\n",
       "std         0.023608\n",
       "min         0.952574\n",
       "25%         0.952574\n",
       "50%         0.999826\n",
       "75%         0.999949\n",
       "max         1.000000\n",
       "Name: coord_sigmoid, dtype: float64"
      ]
     },
     "execution_count": 19,
     "metadata": {},
     "output_type": "execute_result"
    }
   ],
   "source": [
    "df_users['coord_sigmoid'].describe()"
   ]
  }
 ],
 "metadata": {
  "kernelspec": {
   "display_name": "Python 3 (ipykernel)",
   "language": "python",
   "name": "python3"
  },
  "language_info": {
   "codemirror_mode": {
    "name": "ipython",
    "version": 3
   },
   "file_extension": ".py",
   "mimetype": "text/x-python",
   "name": "python",
   "nbconvert_exporter": "python",
   "pygments_lexer": "ipython3",
   "version": "3.9.7"
  }
 },
 "nbformat": 4,
 "nbformat_minor": 5
}
