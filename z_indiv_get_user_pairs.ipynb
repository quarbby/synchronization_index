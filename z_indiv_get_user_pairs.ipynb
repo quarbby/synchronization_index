{
 "cells": [
  {
   "cell_type": "code",
   "execution_count": 41,
   "id": "2c2a7829",
   "metadata": {},
   "outputs": [],
   "source": [
    "import pandas as pd\n",
    "import os\n",
    "import matplotlib.pyplot as pyplt\n",
    "import seaborn as sns\n",
    "sns.set()\n",
    "import math\n",
    "import numpy as np"
   ]
  },
  {
   "cell_type": "code",
   "execution_count": 67,
   "id": "4538055d",
   "metadata": {},
   "outputs": [],
   "source": [
    "coord_dir_1 = '../capitol riots/ORA Exports'\n",
    "nodeset_file_1 = 'Capitol Hashtag-network-Agent x Agent.csv'\n",
    "nodeset_file_2 = 'Capitol Mentions-network-Agent x Agent.csv'\n",
    "nodeset_file_3 = 'Capitol URL-network-Agent x Agent.csv'\n",
    "\n",
    "coord_output_dir = '../capitol riots/index_20221102'"
   ]
  },
  {
   "cell_type": "code",
   "execution_count": 68,
   "id": "049fb2c1",
   "metadata": {},
   "outputs": [],
   "source": [
    "df_node_1 = pd.read_csv(os.path.join(coord_dir_1, nodeset_file_1))\n",
    "df_node_2 = pd.read_csv(os.path.join(coord_dir_1, nodeset_file_2))\n",
    "df_node_3 = pd.read_csv(os.path.join(coord_dir_1, nodeset_file_3))"
   ]
  },
  {
   "cell_type": "code",
   "execution_count": 69,
   "id": "2efaee69",
   "metadata": {},
   "outputs": [],
   "source": [
    "# find unique pairs \n",
    "def find_unique_pairs(list_of_df):\n",
    "    unique_dict = {}\n",
    "    \n",
    "    for df in list_of_df:\n",
    "        for idx, row in df.iterrows():\n",
    "            s_id = row['Source Node ID']\n",
    "            t_id = row['Target Node ID']\n",
    "            link_val = row['Link Value']\n",
    "            \n",
    "            if s_id in unique_dict:\n",
    "                if t_id in unique_dict[s_id]:\n",
    "                    unique_dict[s_id][t_id]['link_val'] += link_val\n",
    "                    unique_dict[s_id][t_id]['count'] += 1\n",
    "                else:\n",
    "                    unique_dict[s_id] = {}\n",
    "                    unique_dict[s_id][t_id] = {'link_val': link_val, 'count': 1}\n",
    "                    \n",
    "            elif t_id in unique_dict:\n",
    "                if s_id in unique_dict[t_id]:\n",
    "                    unique_dict[t_id][s_id]['link_val'] += link_val\n",
    "                    unique_dict[t_id][s_id]['count'] += 1\n",
    "                else:\n",
    "                    unique_dict[t_id] = {}\n",
    "                    unique_dict[t_id][s_id] = {'link_val': link_val, 'count': 1}\n",
    "                    \n",
    "            else:\n",
    "                unique_dict[s_id] = {}\n",
    "                unique_dict[s_id][t_id] = {'link_val': link_val, 'count': 1}\n",
    "                \n",
    "    unique_arr = []\n",
    "    for key, s_id_list in unique_dict.items():\n",
    "        for s, t in s_id_list.items():\n",
    "            tup_obj = {\n",
    "                'Source Node ID': key,\n",
    "                'Target Node ID': s,\n",
    "                'Link Value': t['link_val'],\n",
    "                'Count': t['count'],\n",
    "                \n",
    "            }\n",
    "            unique_arr.append(tup_obj)\n",
    "                    \n",
    "    return pd.DataFrame(unique_arr)"
   ]
  },
  {
   "cell_type": "code",
   "execution_count": 70,
   "id": "67a4a17d",
   "metadata": {},
   "outputs": [],
   "source": [
    "def normalize_column(df, col_name):\n",
    "    col_name_normalized = col_name + 'normalized'\n",
    "    df[col_name_normalized] = (df[col_name]-df[col_name].min())/(df[col_name].max()-df[col_name].min())\n",
    "    \n",
    "    return df"
   ]
  },
  {
   "cell_type": "code",
   "execution_count": 71,
   "id": "6a6b0606",
   "metadata": {},
   "outputs": [],
   "source": [
    "unique_arr_df = find_unique_pairs([df_node_1])\n",
    "unique_arr_df['Link Value'] = unique_arr_df['Link Value'] - unique_arr_df['Count']\n",
    "unique_arr_df = normalize_column(unique_arr_df, 'Link Value')\n",
    "unique_arr_df['Link Valuenormalized'] = unique_arr_df['Link Valuenormalized'] + 1\n",
    "unique_arr_df['coord_index'] = unique_arr_df['Link Valuenormalized'] * unique_arr_df['Count']\n",
    "unique_arr_df.to_csv(os.path.join(coord_output_dir, 'coord_pairs_output_simple_multiply_hashtag_20221102.csv') , index=False)"
   ]
  },
  {
   "cell_type": "code",
   "execution_count": 72,
   "id": "ae23c85a",
   "metadata": {},
   "outputs": [],
   "source": [
    "unique_arr_df = find_unique_pairs([df_node_2])\n",
    "unique_arr_df['Link Value'] = unique_arr_df['Link Value'] - unique_arr_df['Count']\n",
    "unique_arr_df = normalize_column(unique_arr_df, 'Link Value')\n",
    "unique_arr_df['Link Valuenormalized'] = unique_arr_df['Link Valuenormalized'] + 1\n",
    "unique_arr_df['coord_index'] = unique_arr_df['Link Valuenormalized'] * unique_arr_df['Count']\n",
    "unique_arr_df.to_csv(os.path.join(coord_output_dir, 'coord_pairs_output_simple_multiply_mentions_20221102.csv') , index=False)"
   ]
  },
  {
   "cell_type": "code",
   "execution_count": 73,
   "id": "6769ecf1",
   "metadata": {},
   "outputs": [],
   "source": [
    "unique_arr_df = find_unique_pairs([df_node_3])\n",
    "unique_arr_df['Link Value'] = unique_arr_df['Link Value'] - unique_arr_df['Count']\n",
    "unique_arr_df = normalize_column(unique_arr_df, 'Link Value')\n",
    "unique_arr_df['Link Valuenormalized'] = unique_arr_df['Link Valuenormalized'] + 1\n",
    "unique_arr_df['coord_index'] = unique_arr_df['Link Valuenormalized'] * unique_arr_df['Count']\n",
    "unique_arr_df.to_csv(os.path.join(coord_output_dir, 'coord_pairs_output_simple_multiply_urls_20221102.csv') , index=False)"
   ]
  }
 ],
 "metadata": {
  "kernelspec": {
   "display_name": "Python 3 (ipykernel)",
   "language": "python",
   "name": "python3"
  },
  "language_info": {
   "codemirror_mode": {
    "name": "ipython",
    "version": 3
   },
   "file_extension": ".py",
   "mimetype": "text/x-python",
   "name": "python",
   "nbconvert_exporter": "python",
   "pygments_lexer": "ipython3",
   "version": "3.9.7"
  }
 },
 "nbformat": 4,
 "nbformat_minor": 5
}
