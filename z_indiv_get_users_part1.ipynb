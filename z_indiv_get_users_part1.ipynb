{
 "cells": [
  {
   "cell_type": "code",
   "execution_count": 84,
   "id": "4e5828c2",
   "metadata": {},
   "outputs": [],
   "source": [
    "import pandas as pd\n",
    "import os\n",
    "import matplotlib.pyplot as pyplt\n",
    "import seaborn as sns\n",
    "sns.set()\n",
    "import math\n",
    "\n",
    "def sigmoid(x):\n",
    "    return 1 / (1 + math.exp(-x))"
   ]
  },
  {
   "cell_type": "code",
   "execution_count": 85,
   "id": "9fe38437",
   "metadata": {},
   "outputs": [],
   "source": [
    "coord_dir = '../capitol riots/index_20221102'\n",
    "ora_export_dir = '../capitol riots/ORA Exports'"
   ]
  },
  {
   "cell_type": "code",
   "execution_count": 86,
   "id": "dc32e763",
   "metadata": {},
   "outputs": [],
   "source": [
    "nodeset_file_1 = 'Capitol Hashtag-network-Agent x Agent.csv'\n",
    "df_node_1 = pd.read_csv(os.path.join(ora_export_dir, nodeset_file_1))\n",
    "hashtag_output_file_name = 'coord_user_simple_multiply_hashtag_20221102.csv'"
   ]
  },
  {
   "cell_type": "code",
   "execution_count": 87,
   "id": "b9ba6ba0",
   "metadata": {},
   "outputs": [],
   "source": [
    "nodeset_file_2 = 'Capitol Mentions-network-Agent x Agent.csv'\n",
    "df_node_2 = pd.read_csv(os.path.join(ora_export_dir, nodeset_file_2))\n",
    "mentions_output_file_name = 'coord_user_simple_multiply_mentions_20221102.csv'"
   ]
  },
  {
   "cell_type": "code",
   "execution_count": 88,
   "id": "aba58b55",
   "metadata": {},
   "outputs": [],
   "source": [
    "nodeset_file_3 = 'Capitol URL-network-Agent x Agent.csv'\n",
    "df_node_3 = pd.read_csv(os.path.join(ora_export_dir, nodeset_file_3))\n",
    "urls_output_file_name = 'coord_user_simple_multiply_urls_20221102.csv'"
   ]
  },
  {
   "cell_type": "code",
   "execution_count": 8,
   "id": "2fa58627",
   "metadata": {},
   "outputs": [
    {
     "data": {
      "text/html": [
       "<div>\n",
       "<style scoped>\n",
       "    .dataframe tbody tr th:only-of-type {\n",
       "        vertical-align: middle;\n",
       "    }\n",
       "\n",
       "    .dataframe tbody tr th {\n",
       "        vertical-align: top;\n",
       "    }\n",
       "\n",
       "    .dataframe thead th {\n",
       "        text-align: right;\n",
       "    }\n",
       "</style>\n",
       "<table border=\"1\" class=\"dataframe\">\n",
       "  <thead>\n",
       "    <tr style=\"text-align: right;\">\n",
       "      <th></th>\n",
       "      <th>Source Node ID</th>\n",
       "      <th>Target Node ID</th>\n",
       "      <th>Link Value</th>\n",
       "    </tr>\n",
       "  </thead>\n",
       "  <tbody>\n",
       "    <tr>\n",
       "      <th>0</th>\n",
       "      <td>rumbera1055</td>\n",
       "      <td>venezuelaadiar1</td>\n",
       "      <td>106.0</td>\n",
       "    </tr>\n",
       "    <tr>\n",
       "      <th>1</th>\n",
       "      <td>RumberaF</td>\n",
       "      <td>rumbera1055</td>\n",
       "      <td>118.0</td>\n",
       "    </tr>\n",
       "    <tr>\n",
       "      <th>2</th>\n",
       "      <td>RumberaF</td>\n",
       "      <td>venezuelaadiar1</td>\n",
       "      <td>90.0</td>\n",
       "    </tr>\n",
       "    <tr>\n",
       "      <th>3</th>\n",
       "      <td>RumberaF</td>\n",
       "      <td>RumberanetworkF</td>\n",
       "      <td>110.0</td>\n",
       "    </tr>\n",
       "    <tr>\n",
       "      <th>4</th>\n",
       "      <td>DoralNewsFL</td>\n",
       "      <td>rumbera1055</td>\n",
       "      <td>118.0</td>\n",
       "    </tr>\n",
       "  </tbody>\n",
       "</table>\n",
       "</div>"
      ],
      "text/plain": [
       "  Source Node ID   Target Node ID  Link Value\n",
       "0    rumbera1055  venezuelaadiar1       106.0\n",
       "1       RumberaF      rumbera1055       118.0\n",
       "2       RumberaF  venezuelaadiar1        90.0\n",
       "3       RumberaF  RumberanetworkF       110.0\n",
       "4    DoralNewsFL      rumbera1055       118.0"
      ]
     },
     "execution_count": 8,
     "metadata": {},
     "output_type": "execute_result"
    }
   ],
   "source": [
    "df_node_1.head()"
   ]
  },
  {
   "cell_type": "code",
   "execution_count": null,
   "id": "da0ac2a2",
   "metadata": {},
   "outputs": [],
   "source": []
  },
  {
   "cell_type": "markdown",
   "id": "70f82cf4",
   "metadata": {},
   "source": [
    "### Ranking Users"
   ]
  },
  {
   "cell_type": "code",
   "execution_count": 89,
   "id": "b8b60826",
   "metadata": {},
   "outputs": [],
   "source": [
    "def get_link_total(df):\n",
    "    link_value = 0\n",
    "    for idx, row in df.iterrows():\n",
    "        link_value += row['Link Value']\n",
    "    \n",
    "    return link_value\n",
    "\n",
    "def get_unique_nodes(df):\n",
    "    df_1_source = df['Source Node ID'].unique().tolist()\n",
    "    df_1_target = df['Target Node ID'].unique().tolist()\n",
    "    df_all_nodes_joined = df_1_source + df_1_target\n",
    "    df_unique_nodes = list(set(df_all_nodes_joined))\n",
    "\n",
    "    return df_unique_nodes\n",
    "    \n",
    "def get_user_counts(df_node_1):\n",
    "    user_rank_arr = []\n",
    "    \n",
    "    df_1_unique_nodes = get_unique_nodes(df_node_1)\n",
    "    \n",
    "    all_users = df_1_unique_nodes\n",
    "    all_unique_users = list(set(all_users))\n",
    "    \n",
    "    for user in all_unique_users:\n",
    "        # Get number of coordination types they participate in \n",
    "        num_coordination = 1\n",
    "\n",
    "        # Get strength of coordination \n",
    "        df_source_1 = df_node_1[(df_node_1['Source Node ID'] == user)]\n",
    "        df_target_1 = df_node_1[(df_node_1['Source Node ID'] == user)]\n",
    "        \n",
    "        link_value_1 = get_link_total(df_source_1)\n",
    "        link_value_1 += get_link_total(df_target_1)\n",
    "        \n",
    "        total_link_value = link_value_1\n",
    "        \n",
    "        if total_link_value > 0:\n",
    "            user_obj = {'user': user, 'link_value_1': link_value_1, \n",
    "                        'num_coordination': num_coordination, 'total_link_value': total_link_value}\n",
    "            user_rank_arr.append(user_obj)\n",
    "        \n",
    "    user_rank_df = pd.DataFrame(user_rank_arr)\n",
    "    return user_rank_df"
   ]
  },
  {
   "cell_type": "code",
   "execution_count": 90,
   "id": "fa4f766f",
   "metadata": {},
   "outputs": [],
   "source": [
    "def normalize_column(df, col_name):\n",
    "    col_name_normalized = col_name + 'normalized'\n",
    "    df[col_name_normalized] = (df[col_name]-df[col_name].min())/(df[col_name].max()-df[col_name].min())\n",
    "    \n",
    "    return df"
   ]
  },
  {
   "cell_type": "code",
   "execution_count": null,
   "id": "a22c997c",
   "metadata": {},
   "outputs": [],
   "source": []
  },
  {
   "cell_type": "code",
   "execution_count": 91,
   "id": "aa33dd40",
   "metadata": {},
   "outputs": [],
   "source": [
    "user_rank_df = get_user_counts(df_node_1)\n",
    "user_rank_df = normalize_column(user_rank_df, 'total_link_value')\n",
    "user_rank_df['total_link_valuenormalized'] = user_rank_df['total_link_valuenormalized'] + 1\n",
    "user_rank_df['coord_index'] = user_rank_df['total_link_valuenormalized'] * user_rank_df['num_coordination']\n",
    "user_rank_df.to_csv(os.path.join(coord_dir, hashtag_output_file_name) , index=False)"
   ]
  },
  {
   "cell_type": "code",
   "execution_count": 92,
   "id": "e853fad3",
   "metadata": {},
   "outputs": [],
   "source": [
    "user_rank_df = get_user_counts(df_node_2)\n",
    "user_rank_df = normalize_column(user_rank_df, 'total_link_value')\n",
    "user_rank_df['total_link_valuenormalized'] = user_rank_df['total_link_valuenormalized'] + 1\n",
    "user_rank_df['coord_index'] = user_rank_df['total_link_valuenormalized'] * user_rank_df['num_coordination']\n",
    "user_rank_df.to_csv(os.path.join(coord_dir, mentions_output_file_name) , index=False)"
   ]
  },
  {
   "cell_type": "code",
   "execution_count": 93,
   "id": "f0b2dac9",
   "metadata": {},
   "outputs": [],
   "source": [
    "user_rank_df = get_user_counts(df_node_3)\n",
    "user_rank_df = normalize_column(user_rank_df, 'total_link_value')\n",
    "user_rank_df['total_link_valuenormalized'] = user_rank_df['total_link_valuenormalized'] + 1\n",
    "user_rank_df['coord_index'] = user_rank_df['total_link_valuenormalized'] * user_rank_df['num_coordination']\n",
    "user_rank_df.to_csv(os.path.join(coord_dir, urls_output_file_name) , index=False)"
   ]
  }
 ],
 "metadata": {
  "kernelspec": {
   "display_name": "Python 3 (ipykernel)",
   "language": "python",
   "name": "python3"
  },
  "language_info": {
   "codemirror_mode": {
    "name": "ipython",
    "version": 3
   },
   "file_extension": ".py",
   "mimetype": "text/x-python",
   "name": "python",
   "nbconvert_exporter": "python",
   "pygments_lexer": "ipython3",
   "version": "3.9.7"
  }
 },
 "nbformat": 4,
 "nbformat_minor": 5
}
