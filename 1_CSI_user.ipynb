{
 "cells": [
  {
   "cell_type": "code",
   "execution_count": 196,
   "id": "8c9702c8",
   "metadata": {},
   "outputs": [],
   "source": [
    "import pandas as pd\n",
    "import os\n",
    "import matplotlib.pyplot as pyplt\n",
    "import seaborn as sns\n",
    "sns.set()\n",
    "import math\n",
    "\n",
    "def sigmoid(x):\n",
    "    return 1 / (1 + math.exp(-x))"
   ]
  },
  {
   "cell_type": "code",
   "execution_count": 197,
   "id": "974a721f",
   "metadata": {},
   "outputs": [],
   "source": [
    "coord_dir = 'C../blackpanther/index'\n",
    "output_file = 'coord_user_weighted.csv'\n",
    "\n",
    "bothunter_folder = '../bothunter output/reopen'\n",
    "bothunter_file = 'botoutput.csv'\n",
    "bot_file = os.path.join(bothunter_folder, bothunter_file)"
   ]
  },
  {
   "cell_type": "code",
   "execution_count": 169,
   "id": "c902dbfa",
   "metadata": {},
   "outputs": [],
   "source": [
    "#df_bots = df_bots[df_bots['probability'] != 'probability']"
   ]
  },
  {
   "cell_type": "code",
   "execution_count": 170,
   "id": "d321f8e7",
   "metadata": {},
   "outputs": [],
   "source": [
    "#df_bots['IS_BOT'] = df_bots['probability'].apply(lambda x: True if float(x) > 0.7 else False)"
   ]
  },
  {
   "cell_type": "code",
   "execution_count": 198,
   "id": "98ef1b28",
   "metadata": {},
   "outputs": [],
   "source": [
    "df_pairs = pd.read_csv(os.path.join(coord_dir, 'coord_pairs_output_simple_multiply.csv'))\n",
    "df_bots = pd.read_csv(bot_file)\n",
    "df_bots['IS_BOT'] = df_bots['probability'].apply(lambda x: True if float(x) > 0.7 else False)"
   ]
  },
  {
   "cell_type": "code",
   "execution_count": 199,
   "id": "7f414fbd",
   "metadata": {},
   "outputs": [],
   "source": [
    "df_pairs_unique_users = df_pairs['Source Node ID'].unique().tolist()"
   ]
  },
  {
   "cell_type": "code",
   "execution_count": 200,
   "id": "7abf1153",
   "metadata": {},
   "outputs": [],
   "source": [
    "def get_pair_coord_total(df):\n",
    "    link_value = 0\n",
    "    counter = 0\n",
    "    user_coord_value = 0\n",
    "    \n",
    "    for idx, row in df.iterrows():\n",
    "        link_value += row['coord_index']\n",
    "        counter += 1\n",
    "            \n",
    "        user_coord_value += row['Link Value'] * row['coord_index']\n",
    "    \n",
    "    return user_coord_value, counter"
   ]
  },
  {
   "cell_type": "code",
   "execution_count": 201,
   "id": "e8dff5f8",
   "metadata": {},
   "outputs": [],
   "source": [
    "df_user_coord_arr = []\n",
    "\n",
    "for user in df_pairs_unique_users:\n",
    "    df_subset = df_pairs[(df_pairs['Source Node ID'] == user)]\n",
    "    coord_total, counter = get_pair_coord_total(df_subset)\n",
    "    \n",
    "    coord_sigmoid = sigmoid(coord_total)\n",
    "        \n",
    "    obj = {'user': user, 'coord_index': coord_total, 'coord_sigmoid': coord_sigmoid, 'counter': counter}\n",
    "    df_user_coord_arr.append(obj)"
   ]
  },
  {
   "cell_type": "code",
   "execution_count": 202,
   "id": "68df706c",
   "metadata": {},
   "outputs": [
    {
     "data": {
      "text/html": [
       "<div>\n",
       "<style scoped>\n",
       "    .dataframe tbody tr th:only-of-type {\n",
       "        vertical-align: middle;\n",
       "    }\n",
       "\n",
       "    .dataframe tbody tr th {\n",
       "        vertical-align: top;\n",
       "    }\n",
       "\n",
       "    .dataframe thead th {\n",
       "        text-align: right;\n",
       "    }\n",
       "</style>\n",
       "<table border=\"1\" class=\"dataframe\">\n",
       "  <thead>\n",
       "    <tr style=\"text-align: right;\">\n",
       "      <th></th>\n",
       "      <th>user</th>\n",
       "      <th>coord_index</th>\n",
       "      <th>coord_sigmoid</th>\n",
       "      <th>counter</th>\n",
       "    </tr>\n",
       "  </thead>\n",
       "  <tbody>\n",
       "    <tr>\n",
       "      <th>0</th>\n",
       "      <td>DeplorabCthulhu</td>\n",
       "      <td>4.000000</td>\n",
       "      <td>0.982014</td>\n",
       "      <td>1</td>\n",
       "    </tr>\n",
       "    <tr>\n",
       "      <th>1</th>\n",
       "      <td>archangelscottt</td>\n",
       "      <td>5.025907</td>\n",
       "      <td>0.993477</td>\n",
       "      <td>1</td>\n",
       "    </tr>\n",
       "    <tr>\n",
       "      <th>2</th>\n",
       "      <td>ResistCovid19</td>\n",
       "      <td>5.025907</td>\n",
       "      <td>0.993477</td>\n",
       "      <td>1</td>\n",
       "    </tr>\n",
       "    <tr>\n",
       "      <th>3</th>\n",
       "      <td>shercares</td>\n",
       "      <td>5.025907</td>\n",
       "      <td>0.993477</td>\n",
       "      <td>1</td>\n",
       "    </tr>\n",
       "    <tr>\n",
       "      <th>4</th>\n",
       "      <td>Kris_Sacrebleu</td>\n",
       "      <td>7.108808</td>\n",
       "      <td>0.999183</td>\n",
       "      <td>1</td>\n",
       "    </tr>\n",
       "  </tbody>\n",
       "</table>\n",
       "</div>"
      ],
      "text/plain": [
       "              user  coord_index  coord_sigmoid  counter\n",
       "0  DeplorabCthulhu     4.000000       0.982014        1\n",
       "1  archangelscottt     5.025907       0.993477        1\n",
       "2    ResistCovid19     5.025907       0.993477        1\n",
       "3        shercares     5.025907       0.993477        1\n",
       "4   Kris_Sacrebleu     7.108808       0.999183        1"
      ]
     },
     "execution_count": 202,
     "metadata": {},
     "output_type": "execute_result"
    }
   ],
   "source": [
    "df_user_coord = pd.DataFrame(df_user_coord_arr)\n",
    "df_user_coord.head()"
   ]
  },
  {
   "cell_type": "code",
   "execution_count": 203,
   "id": "8a0c84a6",
   "metadata": {},
   "outputs": [],
   "source": [
    "df_merge = df_user_coord.merge(df_bots, how='outer', left_on='user', right_on='screen_name')"
   ]
  },
  {
   "cell_type": "code",
   "execution_count": 119,
   "id": "d48c77ba",
   "metadata": {},
   "outputs": [
    {
     "data": {
      "text/html": [
       "<div>\n",
       "<style scoped>\n",
       "    .dataframe tbody tr th:only-of-type {\n",
       "        vertical-align: middle;\n",
       "    }\n",
       "\n",
       "    .dataframe tbody tr th {\n",
       "        vertical-align: top;\n",
       "    }\n",
       "\n",
       "    .dataframe thead th {\n",
       "        text-align: right;\n",
       "    }\n",
       "</style>\n",
       "<table border=\"1\" class=\"dataframe\">\n",
       "  <thead>\n",
       "    <tr style=\"text-align: right;\">\n",
       "      <th></th>\n",
       "      <th>user</th>\n",
       "      <th>coord_index</th>\n",
       "      <th>coord_sigmoid</th>\n",
       "      <th>counter</th>\n",
       "      <th>status_id</th>\n",
       "      <th>user_id</th>\n",
       "      <th>screen_name</th>\n",
       "      <th>prediction</th>\n",
       "      <th>probability</th>\n",
       "      <th>IS_BOT</th>\n",
       "    </tr>\n",
       "  </thead>\n",
       "  <tbody>\n",
       "    <tr>\n",
       "      <th>0</th>\n",
       "      <td>TheUmerAwan</td>\n",
       "      <td>7.457944</td>\n",
       "      <td>0.999423</td>\n",
       "      <td>1.0</td>\n",
       "      <td>1322038622011404289</td>\n",
       "      <td>2921379161</td>\n",
       "      <td>TheUmerAwan</td>\n",
       "      <td>False</td>\n",
       "      <td>0.048418</td>\n",
       "      <td>False</td>\n",
       "    </tr>\n",
       "    <tr>\n",
       "      <th>1</th>\n",
       "      <td>KashafN42768705</td>\n",
       "      <td>4.149533</td>\n",
       "      <td>0.984473</td>\n",
       "      <td>1.0</td>\n",
       "      <td>1322171400753418240</td>\n",
       "      <td>1060449656629551109</td>\n",
       "      <td>KashafN42768705</td>\n",
       "      <td>False</td>\n",
       "      <td>0.392940</td>\n",
       "      <td>False</td>\n",
       "    </tr>\n",
       "    <tr>\n",
       "      <th>2</th>\n",
       "      <td>KashafN42768705</td>\n",
       "      <td>4.149533</td>\n",
       "      <td>0.984473</td>\n",
       "      <td>1.0</td>\n",
       "      <td>1322170197894156288</td>\n",
       "      <td>1060449656629551109</td>\n",
       "      <td>KashafN42768705</td>\n",
       "      <td>False</td>\n",
       "      <td>0.392940</td>\n",
       "      <td>False</td>\n",
       "    </tr>\n",
       "    <tr>\n",
       "      <th>3</th>\n",
       "      <td>aqdushira</td>\n",
       "      <td>6.336449</td>\n",
       "      <td>0.998233</td>\n",
       "      <td>1.0</td>\n",
       "      <td>1322171949372579841</td>\n",
       "      <td>1673070157</td>\n",
       "      <td>aqdushira</td>\n",
       "      <td>False</td>\n",
       "      <td>0.100962</td>\n",
       "      <td>False</td>\n",
       "    </tr>\n",
       "    <tr>\n",
       "      <th>4</th>\n",
       "      <td>aqdushira</td>\n",
       "      <td>6.336449</td>\n",
       "      <td>0.998233</td>\n",
       "      <td>1.0</td>\n",
       "      <td>1322170209755693056</td>\n",
       "      <td>1673070157</td>\n",
       "      <td>aqdushira</td>\n",
       "      <td>False</td>\n",
       "      <td>0.100962</td>\n",
       "      <td>False</td>\n",
       "    </tr>\n",
       "  </tbody>\n",
       "</table>\n",
       "</div>"
      ],
      "text/plain": [
       "              user  coord_index  coord_sigmoid  counter            status_id  \\\n",
       "0      TheUmerAwan     7.457944       0.999423      1.0  1322038622011404289   \n",
       "1  KashafN42768705     4.149533       0.984473      1.0  1322171400753418240   \n",
       "2  KashafN42768705     4.149533       0.984473      1.0  1322170197894156288   \n",
       "3        aqdushira     6.336449       0.998233      1.0  1322171949372579841   \n",
       "4        aqdushira     6.336449       0.998233      1.0  1322170209755693056   \n",
       "\n",
       "               user_id      screen_name  prediction  probability  IS_BOT  \n",
       "0           2921379161      TheUmerAwan       False     0.048418   False  \n",
       "1  1060449656629551109  KashafN42768705       False     0.392940   False  \n",
       "2  1060449656629551109  KashafN42768705       False     0.392940   False  \n",
       "3           1673070157        aqdushira       False     0.100962   False  \n",
       "4           1673070157        aqdushira       False     0.100962   False  "
      ]
     },
     "execution_count": 119,
     "metadata": {},
     "output_type": "execute_result"
    }
   ],
   "source": [
    "df_merge.head()"
   ]
  },
  {
   "cell_type": "code",
   "execution_count": null,
   "id": "e6715241",
   "metadata": {},
   "outputs": [],
   "source": []
  },
  {
   "cell_type": "code",
   "execution_count": null,
   "id": "17e8cbc8",
   "metadata": {},
   "outputs": [],
   "source": []
  },
  {
   "cell_type": "code",
   "execution_count": 176,
   "id": "7bd9d6e4",
   "metadata": {},
   "outputs": [],
   "source": [
    "df_merge.to_csv(os.path.join(coord_dir, output_file), index=False)"
   ]
  },
  {
   "cell_type": "code",
   "execution_count": 159,
   "id": "730a7261",
   "metadata": {},
   "outputs": [
    {
     "data": {
      "text/plain": [
       "count    3563.000000\n",
       "mean        2.571227\n",
       "std         8.751025\n",
       "min         0.000000\n",
       "25%         1.004608\n",
       "50%         1.004608\n",
       "75%         1.004608\n",
       "max       434.000000\n",
       "Name: coord_index, dtype: float64"
      ]
     },
     "execution_count": 159,
     "metadata": {},
     "output_type": "execute_result"
    }
   ],
   "source": [
    "df_user_coord['coord_index'].describe()"
   ]
  },
  {
   "cell_type": "code",
   "execution_count": 160,
   "id": "869cd7fb",
   "metadata": {},
   "outputs": [
    {
     "data": {
      "text/plain": [
       "1.0046082949308757"
      ]
     },
     "execution_count": 160,
     "metadata": {},
     "output_type": "execute_result"
    }
   ],
   "source": [
    "df_user_coord['coord_index'].median()"
   ]
  },
  {
   "cell_type": "code",
   "execution_count": 204,
   "id": "3ec2e4c8",
   "metadata": {},
   "outputs": [],
   "source": [
    "df_merge_bots = df_merge[df_merge['IS_BOT'] == True]\n",
    "df_merge_humans = df_merge[df_merge['IS_BOT'] == False]"
   ]
  },
  {
   "cell_type": "code",
   "execution_count": 205,
   "id": "ded96b93",
   "metadata": {},
   "outputs": [
    {
     "data": {
      "text/plain": [
       "count    3572.000000\n",
       "mean        7.375041\n",
       "std         5.395809\n",
       "min         4.000000\n",
       "25%         5.025907\n",
       "50%         5.025907\n",
       "75%        11.398964\n",
       "max       109.699482\n",
       "Name: coord_index, dtype: float64"
      ]
     },
     "execution_count": 205,
     "metadata": {},
     "output_type": "execute_result"
    }
   ],
   "source": [
    "df_merge_bots['coord_index'].describe()"
   ]
  },
  {
   "cell_type": "code",
   "execution_count": 206,
   "id": "6167dff4",
   "metadata": {},
   "outputs": [
    {
     "data": {
      "text/plain": [
       "count    6677.000000\n",
       "mean        7.218327\n",
       "std         5.418153\n",
       "min         4.000000\n",
       "25%         4.000000\n",
       "50%         5.025907\n",
       "75%        11.398964\n",
       "max       116.974093\n",
       "Name: coord_index, dtype: float64"
      ]
     },
     "execution_count": 206,
     "metadata": {},
     "output_type": "execute_result"
    }
   ],
   "source": [
    "df_merge_humans['coord_index'].describe()"
   ]
  },
  {
   "cell_type": "code",
   "execution_count": null,
   "id": "d2773763",
   "metadata": {},
   "outputs": [],
   "source": []
  },
  {
   "cell_type": "code",
   "execution_count": null,
   "id": "5edc05a8",
   "metadata": {},
   "outputs": [],
   "source": []
  }
 ],
 "metadata": {
  "kernelspec": {
   "display_name": "Python 3 (ipykernel)",
   "language": "python",
   "name": "python3"
  },
  "language_info": {
   "codemirror_mode": {
    "name": "ipython",
    "version": 3
   },
   "file_extension": ".py",
   "mimetype": "text/x-python",
   "name": "python",
   "nbconvert_exporter": "python",
   "pygments_lexer": "ipython3",
   "version": "3.9.7"
  }
 },
 "nbformat": 4,
 "nbformat_minor": 5
}
