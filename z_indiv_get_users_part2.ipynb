{
 "cells": [
  {
   "cell_type": "code",
   "execution_count": 96,
   "id": "8c9702c8",
   "metadata": {},
   "outputs": [],
   "source": [
    "import pandas as pd\n",
    "import os\n",
    "import matplotlib.pyplot as pyplt\n",
    "import seaborn as sns\n",
    "sns.set()\n",
    "import math\n",
    "\n",
    "def sigmoid(x):\n",
    "    return 1 / (1 + math.exp(-x))"
   ]
  },
  {
   "cell_type": "code",
   "execution_count": 97,
   "id": "974a721f",
   "metadata": {},
   "outputs": [],
   "source": [
    "coord_dir = '../capitol riots/index_20221102'\n",
    "hashtag_output_file = 'coord_user_hashtag_final_20221102.csv'\n",
    "mentions_output_file = 'coord_user_mentions_final_20221102.csv'\n",
    "urls_output_file = 'coord_user_urls_final_20221102.csv'\n",
    "\n",
    "bothunter_folder = '../bothunter output/capitolriots'\n",
    "bothunter_file = 'botoutput.csv'\n",
    "bot_file = os.path.join(bothunter_folder, bothunter_file)"
   ]
  },
  {
   "cell_type": "code",
   "execution_count": 98,
   "id": "c902dbfa",
   "metadata": {},
   "outputs": [
    {
     "name": "stderr",
     "output_type": "stream",
     "text": [
      "C:\\ProgramData\\Anaconda3\\lib\\site-packages\\IPython\\core\\interactiveshell.py:3444: DtypeWarning: Columns (0,1,3,4) have mixed types.Specify dtype option on import or set low_memory=False.\n",
      "  exec(code_obj, self.user_global_ns, self.user_ns)\n"
     ]
    }
   ],
   "source": [
    "df_bots = pd.read_csv(bot_file)\n",
    "df_bots = df_bots[df_bots['probability'] != 'probability']\n",
    "df_bots['IS_BOT'] = df_bots['probability'].apply(lambda x: True if float(x) > 0.7 else False)"
   ]
  },
  {
   "cell_type": "code",
   "execution_count": 99,
   "id": "7e15e631",
   "metadata": {},
   "outputs": [],
   "source": [
    "df_hashtag_pairs = pd.read_csv(os.path.join(coord_dir, 'coord_user_simple_multiply_hashtag_20221102.csv'))\n",
    "df_mentions_pairs = pd.read_csv(os.path.join(coord_dir, 'coord_user_simple_multiply_mentions_20221102.csv'))\n",
    "df_urls_pairs = pd.read_csv(os.path.join(coord_dir, 'coord_user_simple_multiply_urls_20221102.csv'))"
   ]
  },
  {
   "cell_type": "code",
   "execution_count": 100,
   "id": "818fb7cc",
   "metadata": {},
   "outputs": [],
   "source": [
    "ora_export_dir = '../capitol riots/ORA Exports'\n",
    "nodeset_file_1 = 'Capitol Hashtag-network-Agent x Agent.csv'\n",
    "df_hashtag = pd.read_csv(os.path.join(ora_export_dir, nodeset_file_1))\n",
    "\n",
    "nodeset_file_2 = 'Capitol Mentions-network-Agent x Agent.csv'\n",
    "df_mentions = pd.read_csv(os.path.join(ora_export_dir, nodeset_file_2))\n",
    "\n",
    "nodeset_file_3 = 'Capitol URL-network-Agent x Agent.csv'\n",
    "df_urls = pd.read_csv(os.path.join(ora_export_dir, nodeset_file_3))"
   ]
  },
  {
   "cell_type": "code",
   "execution_count": 101,
   "id": "7abf1153",
   "metadata": {},
   "outputs": [],
   "source": [
    "def get_pair_coord_total(df, coord_index):\n",
    "    #link_value = 0\n",
    "    counter = 0\n",
    "    user_coord_value = 0\n",
    "    \n",
    "    for idx, row in df.iterrows():\n",
    "        #link_value += coord_index\n",
    "        counter += 1\n",
    "            \n",
    "        user_coord_value += row['Link Value'] * coord_index\n",
    "    \n",
    "    return user_coord_value, counter"
   ]
  },
  {
   "cell_type": "code",
   "execution_count": 34,
   "id": "ac2900dc",
   "metadata": {},
   "outputs": [
    {
     "data": {
      "text/html": [
       "<div>\n",
       "<style scoped>\n",
       "    .dataframe tbody tr th:only-of-type {\n",
       "        vertical-align: middle;\n",
       "    }\n",
       "\n",
       "    .dataframe tbody tr th {\n",
       "        vertical-align: top;\n",
       "    }\n",
       "\n",
       "    .dataframe thead th {\n",
       "        text-align: right;\n",
       "    }\n",
       "</style>\n",
       "<table border=\"1\" class=\"dataframe\">\n",
       "  <thead>\n",
       "    <tr style=\"text-align: right;\">\n",
       "      <th></th>\n",
       "      <th>Source Node ID</th>\n",
       "      <th>Target Node ID</th>\n",
       "      <th>Link Value</th>\n",
       "    </tr>\n",
       "  </thead>\n",
       "  <tbody>\n",
       "    <tr>\n",
       "      <th>0</th>\n",
       "      <td>rumbera1055</td>\n",
       "      <td>venezuelaadiar1</td>\n",
       "      <td>106.0</td>\n",
       "    </tr>\n",
       "    <tr>\n",
       "      <th>1</th>\n",
       "      <td>RumberaF</td>\n",
       "      <td>rumbera1055</td>\n",
       "      <td>118.0</td>\n",
       "    </tr>\n",
       "    <tr>\n",
       "      <th>2</th>\n",
       "      <td>RumberaF</td>\n",
       "      <td>venezuelaadiar1</td>\n",
       "      <td>90.0</td>\n",
       "    </tr>\n",
       "    <tr>\n",
       "      <th>3</th>\n",
       "      <td>RumberaF</td>\n",
       "      <td>RumberanetworkF</td>\n",
       "      <td>110.0</td>\n",
       "    </tr>\n",
       "    <tr>\n",
       "      <th>4</th>\n",
       "      <td>DoralNewsFL</td>\n",
       "      <td>rumbera1055</td>\n",
       "      <td>118.0</td>\n",
       "    </tr>\n",
       "  </tbody>\n",
       "</table>\n",
       "</div>"
      ],
      "text/plain": [
       "  Source Node ID   Target Node ID  Link Value\n",
       "0    rumbera1055  venezuelaadiar1       106.0\n",
       "1       RumberaF      rumbera1055       118.0\n",
       "2       RumberaF  venezuelaadiar1        90.0\n",
       "3       RumberaF  RumberanetworkF       110.0\n",
       "4    DoralNewsFL      rumbera1055       118.0"
      ]
     },
     "execution_count": 34,
     "metadata": {},
     "output_type": "execute_result"
    }
   ],
   "source": [
    "df_hashtag.head()"
   ]
  },
  {
   "cell_type": "code",
   "execution_count": 102,
   "id": "0649bbde",
   "metadata": {},
   "outputs": [],
   "source": [
    "def get_link_total(df):\n",
    "    link_value = 0\n",
    "    for idx, row in df.iterrows():\n",
    "        link_value += row['Link Value']\n",
    "    \n",
    "    return link_value"
   ]
  },
  {
   "cell_type": "code",
   "execution_count": 103,
   "id": "047e517f",
   "metadata": {},
   "outputs": [],
   "source": [
    "def get_user_coord(df_pairs, df_ora, output_file):\n",
    "    df_pairs_unique_users = df_pairs['user'].unique().tolist()\n",
    "    \n",
    "    df_user_coord_arr = []\n",
    "\n",
    "    for user in df_pairs_unique_users:\n",
    "        df_ora_subset_source = df_ora[df_ora['Source Node ID'] == user]\n",
    "        df_ora_subset_target = df_ora[df_ora['Target Node ID'] == user]\n",
    "        link_values = get_link_total(df_ora_subset_source) + get_link_total(df_ora_subset_target)\n",
    "        \n",
    "        df_subset = df_pairs[(df_pairs['user'] == user)]\n",
    "        coord_index = df_subset.iloc[0]['coord_index']\n",
    "        \n",
    "        #coord_total, counter = get_pair_coord_total(df_subset, coord_index)\n",
    "\n",
    "        coord_total = coord_index * link_values\n",
    "        \n",
    "        coord_sigmoid = sigmoid(coord_total)\n",
    "\n",
    "        obj = {'user': user, 'coord_index': coord_total, 'coord_sigmoid': coord_sigmoid}\n",
    "        df_user_coord_arr.append(obj)\n",
    "        \n",
    "    df_user_coord = pd.DataFrame(df_user_coord_arr)\n",
    "    df_user_coord.head()\n",
    "    \n",
    "    df_merge = df_user_coord.merge(df_bots, how='inner', left_on='user', right_on='screen_name')\n",
    "    df_merge = df_merge.drop_duplicates(subset=['user'])\n",
    "    \n",
    "    df_merge.to_csv(os.path.join(coord_dir, output_file), index=False)"
   ]
  },
  {
   "cell_type": "code",
   "execution_count": 33,
   "id": "4ad3d252",
   "metadata": {},
   "outputs": [
    {
     "data": {
      "text/html": [
       "<div>\n",
       "<style scoped>\n",
       "    .dataframe tbody tr th:only-of-type {\n",
       "        vertical-align: middle;\n",
       "    }\n",
       "\n",
       "    .dataframe tbody tr th {\n",
       "        vertical-align: top;\n",
       "    }\n",
       "\n",
       "    .dataframe thead th {\n",
       "        text-align: right;\n",
       "    }\n",
       "</style>\n",
       "<table border=\"1\" class=\"dataframe\">\n",
       "  <thead>\n",
       "    <tr style=\"text-align: right;\">\n",
       "      <th></th>\n",
       "      <th>user</th>\n",
       "      <th>link_value_1</th>\n",
       "      <th>num_coordination</th>\n",
       "      <th>total_link_value</th>\n",
       "      <th>total_link_valuenormalized</th>\n",
       "      <th>coord_index</th>\n",
       "    </tr>\n",
       "  </thead>\n",
       "  <tbody>\n",
       "    <tr>\n",
       "      <th>0</th>\n",
       "      <td>BaldeckJantzen</td>\n",
       "      <td>384.0</td>\n",
       "      <td>1</td>\n",
       "      <td>384.0</td>\n",
       "      <td>1.035113</td>\n",
       "      <td>1.035113</td>\n",
       "    </tr>\n",
       "    <tr>\n",
       "      <th>1</th>\n",
       "      <td>LadyIMM1</td>\n",
       "      <td>112.0</td>\n",
       "      <td>1</td>\n",
       "      <td>112.0</td>\n",
       "      <td>1.010241</td>\n",
       "      <td>1.010241</td>\n",
       "    </tr>\n",
       "    <tr>\n",
       "      <th>2</th>\n",
       "      <td>Toronto1</td>\n",
       "      <td>0.0</td>\n",
       "      <td>1</td>\n",
       "      <td>0.0</td>\n",
       "      <td>1.000000</td>\n",
       "      <td>1.000000</td>\n",
       "    </tr>\n",
       "    <tr>\n",
       "      <th>3</th>\n",
       "      <td>WenMaMa2</td>\n",
       "      <td>0.0</td>\n",
       "      <td>1</td>\n",
       "      <td>0.0</td>\n",
       "      <td>1.000000</td>\n",
       "      <td>1.000000</td>\n",
       "    </tr>\n",
       "    <tr>\n",
       "      <th>4</th>\n",
       "      <td>mikedeth</td>\n",
       "      <td>112.0</td>\n",
       "      <td>1</td>\n",
       "      <td>112.0</td>\n",
       "      <td>1.010241</td>\n",
       "      <td>1.010241</td>\n",
       "    </tr>\n",
       "  </tbody>\n",
       "</table>\n",
       "</div>"
      ],
      "text/plain": [
       "             user  link_value_1  num_coordination  total_link_value  \\\n",
       "0  BaldeckJantzen         384.0                 1             384.0   \n",
       "1        LadyIMM1         112.0                 1             112.0   \n",
       "2        Toronto1           0.0                 1               0.0   \n",
       "3        WenMaMa2           0.0                 1               0.0   \n",
       "4        mikedeth         112.0                 1             112.0   \n",
       "\n",
       "   total_link_valuenormalized  coord_index  \n",
       "0                    1.035113     1.035113  \n",
       "1                    1.010241     1.010241  \n",
       "2                    1.000000     1.000000  \n",
       "3                    1.000000     1.000000  \n",
       "4                    1.010241     1.010241  "
      ]
     },
     "execution_count": 33,
     "metadata": {},
     "output_type": "execute_result"
    }
   ],
   "source": [
    "df_hashtag_pairs.head()"
   ]
  },
  {
   "cell_type": "code",
   "execution_count": 104,
   "id": "7f414fbd",
   "metadata": {},
   "outputs": [],
   "source": [
    "get_user_coord(df_hashtag_pairs, df_hashtag, hashtag_output_file)\n",
    "get_user_coord(df_mentions_pairs, df_mentions, mentions_output_file)\n",
    "get_user_coord(df_urls_pairs, df_urls, urls_output_file)"
   ]
  },
  {
   "cell_type": "code",
   "execution_count": 201,
   "id": "e8dff5f8",
   "metadata": {},
   "outputs": [],
   "source": []
  },
  {
   "cell_type": "code",
   "execution_count": 203,
   "id": "8a0c84a6",
   "metadata": {},
   "outputs": [],
   "source": []
  },
  {
   "cell_type": "code",
   "execution_count": null,
   "id": "1ed8838e",
   "metadata": {},
   "outputs": [],
   "source": []
  },
  {
   "cell_type": "code",
   "execution_count": null,
   "id": "462ff44c",
   "metadata": {},
   "outputs": [],
   "source": []
  },
  {
   "cell_type": "code",
   "execution_count": null,
   "id": "adf20912",
   "metadata": {},
   "outputs": [],
   "source": []
  },
  {
   "cell_type": "code",
   "execution_count": 159,
   "id": "730a7261",
   "metadata": {},
   "outputs": [
    {
     "data": {
      "text/plain": [
       "count    3563.000000\n",
       "mean        2.571227\n",
       "std         8.751025\n",
       "min         0.000000\n",
       "25%         1.004608\n",
       "50%         1.004608\n",
       "75%         1.004608\n",
       "max       434.000000\n",
       "Name: coord_index, dtype: float64"
      ]
     },
     "execution_count": 159,
     "metadata": {},
     "output_type": "execute_result"
    }
   ],
   "source": [
    "df_user_coord['coord_index'].describe()"
   ]
  },
  {
   "cell_type": "code",
   "execution_count": 160,
   "id": "869cd7fb",
   "metadata": {},
   "outputs": [
    {
     "data": {
      "text/plain": [
       "1.0046082949308757"
      ]
     },
     "execution_count": 160,
     "metadata": {},
     "output_type": "execute_result"
    }
   ],
   "source": [
    "df_user_coord['coord_index'].median()"
   ]
  },
  {
   "cell_type": "code",
   "execution_count": 204,
   "id": "3ec2e4c8",
   "metadata": {},
   "outputs": [],
   "source": [
    "df_merge_bots = df_merge[df_merge['IS_BOT'] == True]\n",
    "df_merge_humans = df_merge[df_merge['IS_BOT'] == False]"
   ]
  },
  {
   "cell_type": "code",
   "execution_count": 205,
   "id": "ded96b93",
   "metadata": {},
   "outputs": [
    {
     "data": {
      "text/plain": [
       "count    3572.000000\n",
       "mean        7.375041\n",
       "std         5.395809\n",
       "min         4.000000\n",
       "25%         5.025907\n",
       "50%         5.025907\n",
       "75%        11.398964\n",
       "max       109.699482\n",
       "Name: coord_index, dtype: float64"
      ]
     },
     "execution_count": 205,
     "metadata": {},
     "output_type": "execute_result"
    }
   ],
   "source": [
    "df_merge_bots['coord_index'].describe()"
   ]
  },
  {
   "cell_type": "code",
   "execution_count": 206,
   "id": "6167dff4",
   "metadata": {},
   "outputs": [
    {
     "data": {
      "text/plain": [
       "count    6677.000000\n",
       "mean        7.218327\n",
       "std         5.418153\n",
       "min         4.000000\n",
       "25%         4.000000\n",
       "50%         5.025907\n",
       "75%        11.398964\n",
       "max       116.974093\n",
       "Name: coord_index, dtype: float64"
      ]
     },
     "execution_count": 206,
     "metadata": {},
     "output_type": "execute_result"
    }
   ],
   "source": [
    "df_merge_humans['coord_index'].describe()"
   ]
  },
  {
   "cell_type": "code",
   "execution_count": null,
   "id": "d2773763",
   "metadata": {},
   "outputs": [],
   "source": []
  },
  {
   "cell_type": "code",
   "execution_count": null,
   "id": "5edc05a8",
   "metadata": {},
   "outputs": [],
   "source": []
  }
 ],
 "metadata": {
  "kernelspec": {
   "display_name": "Python 3 (ipykernel)",
   "language": "python",
   "name": "python3"
  },
  "language_info": {
   "codemirror_mode": {
    "name": "ipython",
    "version": 3
   },
   "file_extension": ".py",
   "mimetype": "text/x-python",
   "name": "python",
   "nbconvert_exporter": "python",
   "pygments_lexer": "ipython3",
   "version": "3.9.7"
  }
 },
 "nbformat": 4,
 "nbformat_minor": 5
}
